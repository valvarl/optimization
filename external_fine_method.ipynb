{
 "cells": [
  {
   "cell_type": "markdown",
   "metadata": {},
   "source": [
    "# Метод внешнего штрафа"
   ]
  },
  {
   "cell_type": "markdown",
   "metadata": {},
   "source": [
    "Реализация метода внешнего штрафа с применением градиентного спуска *с постоянным шагом* для поиска минимума функции вида ${f(x, y)=Ax^2+By^2}$ до заданной точности ${\\varepsilon}$."
   ]
  },
  {
   "cell_type": "code",
   "execution_count": 1,
   "metadata": {},
   "outputs": [],
   "source": [
    "A = 1\n",
    "B = 9\n",
    "EPS = 0.01"
   ]
  },
  {
   "cell_type": "markdown",
   "metadata": {},
   "source": [
    "$${f(x, y) = x^2 + 9y^2}$$"
   ]
  },
  {
   "cell_type": "code",
   "execution_count": 2,
   "metadata": {},
   "outputs": [],
   "source": [
    "def func(x, y):\n",
    "    return A*x**2+B*y**2"
   ]
  },
  {
   "cell_type": "markdown",
   "metadata": {},
   "source": [
    "*i-ое ограничение* мнимизируемой функции представляет собой функцию вида ${f_i(x, y)\\leq0}$, где ${1\\leq{i}\\leq{n} = 2}$.\n",
    "\\begin{cases}{f_1(x,y)=x+2y+1}\\\\\n",
    "{f_2(x,y)=1-x-y}\\end{cases}"
   ]
  },
  {
   "cell_type": "code",
   "execution_count": 3,
   "metadata": {},
   "outputs": [],
   "source": [
    "def cond1(x, y):\n",
    "    return C1_B*x+C1_B*y+C1_C\n",
    "\n",
    "def cond2(x, y):    \n",
    "    return C2_C-C2_A*x-C2_B*y\n",
    "\n",
    "def check_condition(cond):\n",
    "    return cond <= 0"
   ]
  },
  {
   "cell_type": "markdown",
   "metadata": {},
   "source": [
    "$${S_\\gamma = f(x, y)+\\gamma\\left(C_1\\left[\\max(0, f_1(x, y))\\right]^P+\\ldots+C_n\\left[\\max(0, f_n(x, y))\\right]^P\\right)}$$"
   ]
  },
  {
   "cell_type": "code",
   "execution_count": 4,
   "metadata": {},
   "outputs": [],
   "source": [
    "P = 2\n",
    "C1, C2 = 1, 1\n",
    "C1_A, C1_B, C1_C = 1, 2, 1\n",
    "C2_A, C2_B, C2_C = -1, -1, 1"
   ]
  },
  {
   "cell_type": "markdown",
   "metadata": {},
   "source": [
    "$${S_\\gamma = x^2+9y^2+\\gamma\\left(\\left[\\max(0, x+2y+1)\\right]^2+\\left[\\max(0, 1-x-y)\\right]^2\\right)}$$"
   ]
  },
  {
   "cell_type": "code",
   "execution_count": 5,
   "metadata": {},
   "outputs": [],
   "source": [
    "def s_gamma(x, y, gamma):\n",
    "    return func(x, y) + gamma*(C1*max(0, condition1)**P + C2*max(0, condition2)**P)"
   ]
  },
  {
   "cell_type": "markdown",
   "metadata": {},
   "source": [
    "$${\\nabla{S_\\gamma(x, y)}}$$"
   ]
  },
  {
   "cell_type": "code",
   "execution_count": 6,
   "metadata": {},
   "outputs": [],
   "source": [
    "def gamma_gradient(x, y, gamma):\n",
    "    if check_condition(cond1(x,y)) and check_condition(cond2(x,y)):\n",
    "        return 2*A*x, 2*B*y\n",
    "    elif not check_condition(cond1(x,y)) and check_condition(cond2(x,y)):\n",
    "        return 2*A*x + 2*C1_A*C1*gamma*(C1_C + C1_A*x + C1_B*y), 2*B*y + 2*C1_B*C1*gamma*(C1_C + C1_A*x + C1_B*y)\n",
    "    elif check_condition(cond1(x,y)) and not check_condition(cond2(x,y)):\n",
    "        return 2*A*x + 2*gamma*C2_A*C2*(C2_C + C2_A*x + C2_B*y), 2*B*y + 2*gamma*C2_B*C2*(C2_C + C2_A*x + C2_B*y)\n",
    "    else:\n",
    "        return 2*(A*x + gamma*C1_A*C1*(C1_A*x + C1_B*y + C1_C) + gamma*C2_A*C2*(C2_A*x + C2_B*y + C2_C)), \\\n",
    "    2*(B*y + gamma*C1_B*C1*(C1_A*x + C1_B*y + C1_C) + gamma*C2_B*C2*(C2_A*x + C2_B*y + C2_C))"
   ]
  },
  {
   "cell_type": "markdown",
   "metadata": {},
   "source": [
    "$${||\\overline{v}|| = \\sqrt{x^2 + y^2}}$$"
   ]
  },
  {
   "cell_type": "code",
   "execution_count": 7,
   "metadata": {},
   "outputs": [],
   "source": [
    "def vect_norm(x, y):\n",
    "    return (x**2+y**2)**0.5"
   ]
  },
  {
   "cell_type": "markdown",
   "metadata": {},
   "source": [
    "$$\\left(\\begin{array}{ccc}x^{k+1}\\\\y^{k+1}\\\\\\end{array}\\right)=\n",
    "\\left(\\begin{array}{ccc}x^k\\\\y^k\\\\\\end{array}\\right) - {1\\over L}\\nabla S_\\gamma(x^k, y^k)$$\n",
    "Условие остановки:$${||\\nabla{S_\\gamma(x^*, y^*)}||<\\varepsilon}$$"
   ]
  },
  {
   "cell_type": "code",
   "execution_count": 8,
   "metadata": {},
   "outputs": [],
   "source": [
    "def gradient_descent(x, y, gamma):\n",
    "    i = 0\n",
    "    s = step(gamma) # получаем шаг\n",
    "    a, b = gamma_gradient(x, y, gamma) # получаем градиент \n",
    "    while vect_norm(a, b) > EPS:\n",
    "        x, y = x - a/s, y - b/s\n",
    "        a, b = gamma_gradient(x, y, gamma)\n",
    "        i += 1\n",
    "    return x, y, i"
   ]
  },
  {
   "cell_type": "markdown",
   "metadata": {},
   "source": [
    "Шаг градиента вычисляется по формуле $${L = \\max(H(x), H(y))},$$где $H(t)$ - коэффициент при $t^2$ функции ${S_\\gamma(x, y)}$ в точке, нарушающей *оба* ограничения."
   ]
  },
  {
   "cell_type": "code",
   "execution_count": 9,
   "metadata": {},
   "outputs": [],
   "source": [
    "def step(gamma):\n",
    "    return 2*max(A+gamma*(C1_A**2+C2_A**2), B+gamma*(C1_B**2+C2_B**2))"
   ]
  },
  {
   "cell_type": "code",
   "execution_count": 10,
   "metadata": {},
   "outputs": [],
   "source": [
    "from random import uniform\n",
    "\n",
    "def generate_point(a, b):\n",
    "    for i in range(10):\n",
    "        x = uniform(a, b)\n",
    "        y = uniform(a, b)\n",
    "        if not check_condition(cond1(x, y)) and not check_condition(cond2(x, y)):\n",
    "            return x, y\n",
    "    raise Exeption('Bad point generated')"
   ]
  },
  {
   "cell_type": "markdown",
   "metadata": {},
   "source": [
    "### Демонстрация работы метода"
   ]
  },
  {
   "cell_type": "code",
   "execution_count": 17,
   "metadata": {},
   "outputs": [
    {
     "name": "stdout",
     "output_type": "stream",
     "text": [
      "+-------+-------+\n",
      "|γ\t|i\t|\n",
      "+-------+-------+\n",
      "|1 \t|51\t|\n",
      "|2 \t|63\t|\n",
      "|4 \t|91\t|\n",
      "|8 \t|143\t|\n",
      "|16 \t|237\t|\n",
      "|32 \t|393\t|\n",
      "|64 \t|654\t|\n",
      "|128 \t|1113\t|\n",
      "|256 \t|1973\t|\n",
      "|512 \t|3644\t|\n",
      "+-------+-------+\n"
     ]
    }
   ],
   "source": [
    "x, y = generate_point(-5, 5)\n",
    "g = 1\n",
    "builder = '['\n",
    "print('+-------+-------+')\n",
    "print('|γ\\t|i\\t|')\n",
    "print('+-------+-------+')\n",
    "\n",
    "for i in range(1, 11):\n",
    "    res = gradient_descent(x, y, g)\n",
    "    print('|%d \\t|%d\\t|' % (g, res[2]))\n",
    "    builder+=\"(%f, %f), \" % (res[0], res[1])\n",
    "    g*=2\n",
    "    \n",
    "print('+-------+-------+')\n",
    "builder = builder[:-2] + ']'"
   ]
  },
  {
   "cell_type": "code",
   "execution_count": 18,
   "metadata": {},
   "outputs": [
    {
     "name": "stdout",
     "output_type": "stream",
     "text": [
      "[(0.088957, -0.090411), (0.201768, -0.168892), (0.409039, -0.307122), (0.746074, -0.528643), (1.212499, -0.833680), (1.736049, -1.175493), (2.203006, -1.480166), (2.541672, -1.701078), (2.752239, -1.838415), (2.870879, -1.915791)]\n"
     ]
    }
   ],
   "source": [
    "print(builder)"
   ]
  },
  {
   "cell_type": "code",
   "execution_count": null,
   "metadata": {},
   "outputs": [],
   "source": []
  }
 ],
 "metadata": {
  "kernelspec": {
   "display_name": "Python 3",
   "language": "python",
   "name": "python3"
  },
  "language_info": {
   "codemirror_mode": {
    "name": "ipython",
    "version": 3
   },
   "file_extension": ".py",
   "mimetype": "text/x-python",
   "name": "python",
   "nbconvert_exporter": "python",
   "pygments_lexer": "ipython3",
   "version": "3.6.2"
  }
 },
 "nbformat": 4,
 "nbformat_minor": 4
}
