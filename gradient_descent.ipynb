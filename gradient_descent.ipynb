{
 "cells": [
  {
   "cell_type": "markdown",
   "metadata": {},
   "source": [
    "# Градиентный спуск с постоянным шагом"
   ]
  },
  {
   "cell_type": "markdown",
   "metadata": {},
   "source": [
    "$${f(x, y) = Ax^2 + By^2}$$"
   ]
  },
  {
   "cell_type": "code",
   "execution_count": 1,
   "metadata": {},
   "outputs": [],
   "source": [
    "A = 1\n",
    "B = 9\n",
    "EPS = 0.01\n",
    "SAMP = 100\n",
    "F_VALUE = 14"
   ]
  },
  {
   "cell_type": "markdown",
   "metadata": {},
   "source": [
    "$${f(x, y) = x^2 + 9y^2}$$"
   ]
  },
  {
   "cell_type": "code",
   "execution_count": 2,
   "metadata": {},
   "outputs": [],
   "source": [
    "from random import uniform\n",
    "\n",
    "def func(x, y):\n",
    "    global A, B\n",
    "    return A*x**2+B*y**2\n",
    "\n",
    "def generate_point(a, b):\n",
    "    global A, B, F_VALUE\n",
    "    x = uniform(a, b)\n",
    "    y = ((F_VALUE-A*x**2)/B)**0.5\n",
    "    return x, y"
   ]
  },
  {
   "cell_type": "markdown",
   "metadata": {},
   "source": [
    "$${||\\overline{v}|| = \\sqrt{x^2 + y^2}}$$"
   ]
  },
  {
   "cell_type": "code",
   "execution_count": 3,
   "metadata": {},
   "outputs": [],
   "source": [
    "def vect_norm(x, y):\n",
    "    return (x**2+y**2)**0.5"
   ]
  },
  {
   "cell_type": "markdown",
   "metadata": {},
   "source": [
    "$$\\left(\\begin{array}{ccc}x^{k+1}\\\\y^{k+1}\\\\\\end{array}\\right)=\n",
    "\\left(\\begin{array}{ccc}x^k\\\\y^k\\\\\\end{array}\\right) - {1\\over L}\\nabla f(x^k, y^k)$$\n",
    "Условие остановки:$${||\\nabla{f(x^*, y^*)}||<\\varepsilon}$$"
   ]
  },
  {
   "cell_type": "code",
   "execution_count": 4,
   "metadata": {},
   "outputs": [],
   "source": [
    "def gradient_descent(x, y):\n",
    "    global A, B, EPS\n",
    "    i = 0\n",
    "    while vect_norm(2*A*x, 2*B*y) > EPS:\n",
    "        x, y = x - 2*A*x/step(), y - 2*B*y/step()\n",
    "        i += 1\n",
    "    return i"
   ]
  },
  {
   "cell_type": "markdown",
   "metadata": {},
   "source": [
    "Шаг градиента $L$ вычисляется по формуле$${L = \\max(2a, 2b)}$$"
   ]
  },
  {
   "cell_type": "code",
   "execution_count": 5,
   "metadata": {},
   "outputs": [],
   "source": [
    "def step():\n",
    "    global A, B\n",
    "    return 2*max(A, B)"
   ]
  },
  {
   "cell_type": "markdown",
   "metadata": {},
   "source": [
    "Максимальное число итераций $N_\\max$ расчитывается по формуле$${N_\\max = \\left[f(x_0, y_0)-f(x^*, y^*)\\over \\varepsilon^2\\right]*2L},$$где значение функции в точке остановки $f(x^*, y^*)$ = 0.\n"
   ]
  },
  {
   "cell_type": "code",
   "execution_count": 6,
   "metadata": {},
   "outputs": [],
   "source": [
    "def max_value(x, y, eps):\n",
    "    return round(2*step()*func(x, y)/eps**2)"
   ]
  },
  {
   "cell_type": "code",
   "execution_count": 7,
   "metadata": {},
   "outputs": [],
   "source": [
    "def real_value(a, b):\n",
    "    global SAMP\n",
    "    n_real = 0\n",
    "    for w in range(SAMP):\n",
    "        x, y = generate_point(a, b)\n",
    "        n_real += gradient_descent(x, y)\n",
    "    return n_real/SAMP"
   ]
  },
  {
   "cell_type": "markdown",
   "metadata": {},
   "source": [
    "### Максимальное число итераций"
   ]
  },
  {
   "cell_type": "code",
   "execution_count": 8,
   "metadata": {},
   "outputs": [
    {
     "name": "stdout",
     "output_type": "stream",
     "text": [
      "5040000\n"
     ]
    }
   ],
   "source": [
    "x, y = generate_point(0, (F_VALUE/A)**0.5)\n",
    "print(max_value(x, y, EPS))"
   ]
  },
  {
   "cell_type": "markdown",
   "metadata": {},
   "source": [
    "### Среднее количество итераций на отрезке"
   ]
  },
  {
   "cell_type": "code",
   "execution_count": 9,
   "metadata": {},
   "outputs": [
    {
     "name": "stdout",
     "output_type": "stream",
     "text": [
      "[0; √14.0]\t\t 48.99\n",
      "[0; 0.5]\t\t 29.02\n",
      "[√14.0-0.5; √14.0]\t 56.13\n"
     ]
    }
   ],
   "source": [
    "print('[0; √{0}]\\t\\t'.format(F_VALUE/A), real_value(0, (F_VALUE/A)**0.5))\n",
    "print('[0; 0.5]\\t\\t', real_value(0, 0.5))\n",
    "print('[√{0}-0.5; √{0}]\\t'.format(F_VALUE/A), real_value((F_VALUE/A)**0.5-0.5, (F_VALUE/A)**0.5))"
   ]
  },
  {
   "cell_type": "code",
   "execution_count": null,
   "metadata": {},
   "outputs": [],
   "source": []
  }
 ],
 "metadata": {
  "kernelspec": {
   "display_name": "Python 3",
   "language": "python",
   "name": "python3"
  },
  "language_info": {
   "codemirror_mode": {
    "name": "ipython",
    "version": 3
   },
   "file_extension": ".py",
   "mimetype": "text/x-python",
   "name": "python",
   "nbconvert_exporter": "python",
   "pygments_lexer": "ipython3",
   "version": "3.6.2"
  }
 },
 "nbformat": 4,
 "nbformat_minor": 4
}
